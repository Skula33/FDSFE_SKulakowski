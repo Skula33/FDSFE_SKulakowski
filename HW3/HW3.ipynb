{
 "cells": [
  {
   "cell_type": "markdown",
   "metadata": {
    "colab_type": "text",
    "id": "view-in-github"
   },
   "source": [
    "<a href=\"https://colab.research.google.com/github/Skula33/FDSfE_SKulakowski/blob/main/HW3.ipynb\" target=\"_parent\"><img src=\"https://colab.research.google.com/assets/colab-badge.svg\" alt=\"Open In Colab\"/></a>"
   ]
  },
  {
   "cell_type": "markdown",
   "metadata": {
    "id": "ufRUNXMNhWih"
   },
   "source": [
    "# Importing our Packages:"
   ]
  },
  {
   "cell_type": "code",
   "execution_count": 1,
   "metadata": {
    "id": "BW8MQv-lgmlA"
   },
   "outputs": [],
   "source": [
    "import matplotlib.pyplot as plt\n",
    "import pandas as pd\n",
    "import numpy as np\n",
    "from scipy import stats"
   ]
  },
  {
   "cell_type": "markdown",
   "metadata": {
    "id": "sXD1RT15icVx"
   },
   "source": [
    "# Idea:\n",
    "\n",
    "Citibike usage would be different by gender if the bikes are more comfortable for people who are taller and with larger frames.\n",
    "\n",
    "### Developing our $H_o$:\n",
    "\n",
    "So partitioning by gender, we want to analyze whether or not this hypothesis holds true: \n",
    "$$\n",
    "\\mu_{1} = \\mu_{2}\n",
    "$$\n",
    "Where we are essentially comparing the average trip duration of our sample of men and women. So we are essentially using this null hypothesis for 2 samples of data.\n",
    "\n",
    "### Developing our $H_{a}$:\n",
    "\n",
    "Conversely, we condsider the following for our alternative hypothesis:\n",
    "$$\n",
    "\\mu_{1} \\neq \\mu_{2}\n",
    "$$\n",
    "Looks good. We would want to consider the statistician's standard rejection region to consider for our hypothesis test:\n",
    "$$\n",
    "\\alpha = 0.05\n",
    "$$\n",
    "What does this mean? Well, we are essentially considering to the 95% significance that the conclusion of our hypothesis test is true."
   ]
  },
  {
   "cell_type": "code",
   "execution_count": 2,
   "metadata": {
    "id": "nlPKt6w2g1n2"
   },
   "outputs": [],
   "source": [
    "# So we're setting our alpha to 0.05, this can also be represented as our probability rejection region\n",
    "# meaning that if our hypothesis test provides a probability lesser than this value, we would reject the null...\n",
    "\n",
    "pvalue = 0.05"
   ]
  },
  {
   "cell_type": "markdown",
   "metadata": {},
   "source": [
    "# <mark>WFF</mark> Fantastic!"
   ]
  },
  {
   "cell_type": "markdown",
   "metadata": {
    "id": "wd1E8Wckrgpk"
   },
   "source": [
    "# Reading in Our Data:"
   ]
  },
  {
   "cell_type": "code",
   "execution_count": 3,
   "metadata": {
    "id": "xyI-snQNqhfq"
   },
   "outputs": [],
   "source": [
    "datestring = '201905'\n",
    "cbMay19 = pd.read_csv(\"https://s3.amazonaws.com/tripdata/\"+ datestring + \"-citibike-tripdata.csv.zip\")"
   ]
  },
  {
   "cell_type": "markdown",
   "metadata": {
    "id": "b_Ud6PC0rojY"
   },
   "source": [
    "# Exploratory Data Analysis:"
   ]
  },
  {
   "cell_type": "code",
   "execution_count": 4,
   "metadata": {
    "colab": {
     "base_uri": "https://localhost:8080/",
     "height": 206
    },
    "id": "bvWjMo4FqlBY",
    "outputId": "21cfe9f4-1d12-485c-f497-b01134d1f883"
   },
   "outputs": [
    {
     "data": {
      "text/html": [
       "\n",
       "  <div id=\"df-7be3edd2-f421-4cec-9442-4506f8548b4b\">\n",
       "    <div class=\"colab-df-container\">\n",
       "      <div>\n",
       "<style scoped>\n",
       "    .dataframe tbody tr th:only-of-type {\n",
       "        vertical-align: middle;\n",
       "    }\n",
       "\n",
       "    .dataframe tbody tr th {\n",
       "        vertical-align: top;\n",
       "    }\n",
       "\n",
       "    .dataframe thead th {\n",
       "        text-align: right;\n",
       "    }\n",
       "</style>\n",
       "<table border=\"1\" class=\"dataframe\">\n",
       "  <thead>\n",
       "    <tr style=\"text-align: right;\">\n",
       "      <th></th>\n",
       "      <th>tripduration</th>\n",
       "      <th>starttime</th>\n",
       "      <th>stoptime</th>\n",
       "      <th>start station id</th>\n",
       "      <th>start station name</th>\n",
       "      <th>start station latitude</th>\n",
       "      <th>start station longitude</th>\n",
       "      <th>end station id</th>\n",
       "      <th>end station name</th>\n",
       "      <th>end station latitude</th>\n",
       "      <th>end station longitude</th>\n",
       "      <th>bikeid</th>\n",
       "      <th>usertype</th>\n",
       "      <th>birth year</th>\n",
       "      <th>gender</th>\n",
       "    </tr>\n",
       "  </thead>\n",
       "  <tbody>\n",
       "    <tr>\n",
       "      <th>0</th>\n",
       "      <td>139</td>\n",
       "      <td>2019-05-01 00:00:01.9010</td>\n",
       "      <td>2019-05-01 00:02:21.5170</td>\n",
       "      <td>447</td>\n",
       "      <td>8 Ave &amp; W 52 St</td>\n",
       "      <td>40.763707</td>\n",
       "      <td>-73.985162</td>\n",
       "      <td>423</td>\n",
       "      <td>W 54 St &amp; 9 Ave</td>\n",
       "      <td>40.765849</td>\n",
       "      <td>-73.986905</td>\n",
       "      <td>31170</td>\n",
       "      <td>Subscriber</td>\n",
       "      <td>1983</td>\n",
       "      <td>1</td>\n",
       "    </tr>\n",
       "    <tr>\n",
       "      <th>1</th>\n",
       "      <td>754</td>\n",
       "      <td>2019-05-01 00:00:03.0210</td>\n",
       "      <td>2019-05-01 00:12:37.6920</td>\n",
       "      <td>3258</td>\n",
       "      <td>W 27 St &amp; 10 Ave</td>\n",
       "      <td>40.750182</td>\n",
       "      <td>-74.002184</td>\n",
       "      <td>3255</td>\n",
       "      <td>8 Ave &amp; W 31 St</td>\n",
       "      <td>40.750585</td>\n",
       "      <td>-73.994685</td>\n",
       "      <td>25560</td>\n",
       "      <td>Customer</td>\n",
       "      <td>1969</td>\n",
       "      <td>0</td>\n",
       "    </tr>\n",
       "    <tr>\n",
       "      <th>2</th>\n",
       "      <td>2308</td>\n",
       "      <td>2019-05-01 00:00:04.6270</td>\n",
       "      <td>2019-05-01 00:38:33.1710</td>\n",
       "      <td>3093</td>\n",
       "      <td>N 6 St &amp; Bedford Ave</td>\n",
       "      <td>40.717452</td>\n",
       "      <td>-73.958509</td>\n",
       "      <td>3676</td>\n",
       "      <td>Van Brunt St &amp; Van Dyke St</td>\n",
       "      <td>40.675833</td>\n",
       "      <td>-74.014726</td>\n",
       "      <td>33369</td>\n",
       "      <td>Subscriber</td>\n",
       "      <td>1978</td>\n",
       "      <td>1</td>\n",
       "    </tr>\n",
       "    <tr>\n",
       "      <th>3</th>\n",
       "      <td>143</td>\n",
       "      <td>2019-05-01 00:00:19.3340</td>\n",
       "      <td>2019-05-01 00:02:42.5200</td>\n",
       "      <td>3486</td>\n",
       "      <td>Schermerhorn St &amp; Bond St</td>\n",
       "      <td>40.688417</td>\n",
       "      <td>-73.984517</td>\n",
       "      <td>3412</td>\n",
       "      <td>Pacific St &amp; Nevins St</td>\n",
       "      <td>40.685376</td>\n",
       "      <td>-73.983021</td>\n",
       "      <td>32041</td>\n",
       "      <td>Subscriber</td>\n",
       "      <td>1997</td>\n",
       "      <td>1</td>\n",
       "    </tr>\n",
       "    <tr>\n",
       "      <th>4</th>\n",
       "      <td>138</td>\n",
       "      <td>2019-05-01 00:00:22.1840</td>\n",
       "      <td>2019-05-01 00:02:40.6480</td>\n",
       "      <td>388</td>\n",
       "      <td>W 26 St &amp; 10 Ave</td>\n",
       "      <td>40.749718</td>\n",
       "      <td>-74.002950</td>\n",
       "      <td>494</td>\n",
       "      <td>W 26 St &amp; 8 Ave</td>\n",
       "      <td>40.747348</td>\n",
       "      <td>-73.997236</td>\n",
       "      <td>35237</td>\n",
       "      <td>Subscriber</td>\n",
       "      <td>1967</td>\n",
       "      <td>1</td>\n",
       "    </tr>\n",
       "  </tbody>\n",
       "</table>\n",
       "</div>\n",
       "      <button class=\"colab-df-convert\" onclick=\"convertToInteractive('df-7be3edd2-f421-4cec-9442-4506f8548b4b')\"\n",
       "              title=\"Convert this dataframe to an interactive table.\"\n",
       "              style=\"display:none;\">\n",
       "        \n",
       "  <svg xmlns=\"http://www.w3.org/2000/svg\" height=\"24px\"viewBox=\"0 0 24 24\"\n",
       "       width=\"24px\">\n",
       "    <path d=\"M0 0h24v24H0V0z\" fill=\"none\"/>\n",
       "    <path d=\"M18.56 5.44l.94 2.06.94-2.06 2.06-.94-2.06-.94-.94-2.06-.94 2.06-2.06.94zm-11 1L8.5 8.5l.94-2.06 2.06-.94-2.06-.94L8.5 2.5l-.94 2.06-2.06.94zm10 10l.94 2.06.94-2.06 2.06-.94-2.06-.94-.94-2.06-.94 2.06-2.06.94z\"/><path d=\"M17.41 7.96l-1.37-1.37c-.4-.4-.92-.59-1.43-.59-.52 0-1.04.2-1.43.59L10.3 9.45l-7.72 7.72c-.78.78-.78 2.05 0 2.83L4 21.41c.39.39.9.59 1.41.59.51 0 1.02-.2 1.41-.59l7.78-7.78 2.81-2.81c.8-.78.8-2.07 0-2.86zM5.41 20L4 18.59l7.72-7.72 1.47 1.35L5.41 20z\"/>\n",
       "  </svg>\n",
       "      </button>\n",
       "      \n",
       "  <style>\n",
       "    .colab-df-container {\n",
       "      display:flex;\n",
       "      flex-wrap:wrap;\n",
       "      gap: 12px;\n",
       "    }\n",
       "\n",
       "    .colab-df-convert {\n",
       "      background-color: #E8F0FE;\n",
       "      border: none;\n",
       "      border-radius: 50%;\n",
       "      cursor: pointer;\n",
       "      display: none;\n",
       "      fill: #1967D2;\n",
       "      height: 32px;\n",
       "      padding: 0 0 0 0;\n",
       "      width: 32px;\n",
       "    }\n",
       "\n",
       "    .colab-df-convert:hover {\n",
       "      background-color: #E2EBFA;\n",
       "      box-shadow: 0px 1px 2px rgba(60, 64, 67, 0.3), 0px 1px 3px 1px rgba(60, 64, 67, 0.15);\n",
       "      fill: #174EA6;\n",
       "    }\n",
       "\n",
       "    [theme=dark] .colab-df-convert {\n",
       "      background-color: #3B4455;\n",
       "      fill: #D2E3FC;\n",
       "    }\n",
       "\n",
       "    [theme=dark] .colab-df-convert:hover {\n",
       "      background-color: #434B5C;\n",
       "      box-shadow: 0px 1px 3px 1px rgba(0, 0, 0, 0.15);\n",
       "      filter: drop-shadow(0px 1px 2px rgba(0, 0, 0, 0.3));\n",
       "      fill: #FFFFFF;\n",
       "    }\n",
       "  </style>\n",
       "\n",
       "      <script>\n",
       "        const buttonEl =\n",
       "          document.querySelector('#df-7be3edd2-f421-4cec-9442-4506f8548b4b button.colab-df-convert');\n",
       "        buttonEl.style.display =\n",
       "          google.colab.kernel.accessAllowed ? 'block' : 'none';\n",
       "\n",
       "        async function convertToInteractive(key) {\n",
       "          const element = document.querySelector('#df-7be3edd2-f421-4cec-9442-4506f8548b4b');\n",
       "          const dataTable =\n",
       "            await google.colab.kernel.invokeFunction('convertToInteractive',\n",
       "                                                     [key], {});\n",
       "          if (!dataTable) return;\n",
       "\n",
       "          const docLinkHtml = 'Like what you see? Visit the ' +\n",
       "            '<a target=\"_blank\" href=https://colab.research.google.com/notebooks/data_table.ipynb>data table notebook</a>'\n",
       "            + ' to learn more about interactive tables.';\n",
       "          element.innerHTML = '';\n",
       "          dataTable['output_type'] = 'display_data';\n",
       "          await google.colab.output.renderOutput(dataTable, element);\n",
       "          const docLink = document.createElement('div');\n",
       "          docLink.innerHTML = docLinkHtml;\n",
       "          element.appendChild(docLink);\n",
       "        }\n",
       "      </script>\n",
       "    </div>\n",
       "  </div>\n",
       "  "
      ],
      "text/plain": [
       "   tripduration                 starttime                  stoptime  \\\n",
       "0           139  2019-05-01 00:00:01.9010  2019-05-01 00:02:21.5170   \n",
       "1           754  2019-05-01 00:00:03.0210  2019-05-01 00:12:37.6920   \n",
       "2          2308  2019-05-01 00:00:04.6270  2019-05-01 00:38:33.1710   \n",
       "3           143  2019-05-01 00:00:19.3340  2019-05-01 00:02:42.5200   \n",
       "4           138  2019-05-01 00:00:22.1840  2019-05-01 00:02:40.6480   \n",
       "\n",
       "   start station id         start station name  start station latitude  \\\n",
       "0               447            8 Ave & W 52 St               40.763707   \n",
       "1              3258           W 27 St & 10 Ave               40.750182   \n",
       "2              3093       N 6 St & Bedford Ave               40.717452   \n",
       "3              3486  Schermerhorn St & Bond St               40.688417   \n",
       "4               388           W 26 St & 10 Ave               40.749718   \n",
       "\n",
       "   start station longitude  end station id            end station name  \\\n",
       "0               -73.985162             423             W 54 St & 9 Ave   \n",
       "1               -74.002184            3255             8 Ave & W 31 St   \n",
       "2               -73.958509            3676  Van Brunt St & Van Dyke St   \n",
       "3               -73.984517            3412      Pacific St & Nevins St   \n",
       "4               -74.002950             494             W 26 St & 8 Ave   \n",
       "\n",
       "   end station latitude  end station longitude  bikeid    usertype  \\\n",
       "0             40.765849             -73.986905   31170  Subscriber   \n",
       "1             40.750585             -73.994685   25560    Customer   \n",
       "2             40.675833             -74.014726   33369  Subscriber   \n",
       "3             40.685376             -73.983021   32041  Subscriber   \n",
       "4             40.747348             -73.997236   35237  Subscriber   \n",
       "\n",
       "   birth year  gender  \n",
       "0        1983       1  \n",
       "1        1969       0  \n",
       "2        1978       1  \n",
       "3        1997       1  \n",
       "4        1967       1  "
      ]
     },
     "execution_count": 4,
     "metadata": {},
     "output_type": "execute_result"
    }
   ],
   "source": [
    "cbMay19.head()"
   ]
  },
  {
   "cell_type": "code",
   "execution_count": 5,
   "metadata": {
    "colab": {
     "base_uri": "https://localhost:8080/"
    },
    "id": "dJ8YkWsSq4QT",
    "outputId": "c0a31fb5-1a68-40bf-8f2d-66c624d99471"
   },
   "outputs": [
    {
     "name": "stdout",
     "output_type": "stream",
     "text": [
      "The cbMay19 dataframe has the following dimensions: (1924563, 15)\n"
     ]
    }
   ],
   "source": [
    "print(\"The cbMay19 dataframe has the following dimensions:\",cbMay19.shape)"
   ]
  },
  {
   "cell_type": "code",
   "execution_count": 6,
   "metadata": {
    "colab": {
     "base_uri": "https://localhost:8080/",
     "height": 363
    },
    "id": "WLV5gShZr7Lg",
    "outputId": "a2c3afab-2b79-469a-a584-2c9970d87dad"
   },
   "outputs": [
    {
     "data": {
      "text/html": [
       "\n",
       "  <div id=\"df-083340e6-dca9-4681-92a7-e5922277184d\">\n",
       "    <div class=\"colab-df-container\">\n",
       "      <div>\n",
       "<style scoped>\n",
       "    .dataframe tbody tr th:only-of-type {\n",
       "        vertical-align: middle;\n",
       "    }\n",
       "\n",
       "    .dataframe tbody tr th {\n",
       "        vertical-align: top;\n",
       "    }\n",
       "\n",
       "    .dataframe thead th {\n",
       "        text-align: right;\n",
       "    }\n",
       "</style>\n",
       "<table border=\"1\" class=\"dataframe\">\n",
       "  <thead>\n",
       "    <tr style=\"text-align: right;\">\n",
       "      <th></th>\n",
       "      <th>count</th>\n",
       "      <th>mean</th>\n",
       "      <th>std</th>\n",
       "      <th>min</th>\n",
       "      <th>25%</th>\n",
       "      <th>50%</th>\n",
       "      <th>75%</th>\n",
       "      <th>max</th>\n",
       "    </tr>\n",
       "  </thead>\n",
       "  <tbody>\n",
       "    <tr>\n",
       "      <th>tripduration</th>\n",
       "      <td>1924563.0</td>\n",
       "      <td>1067.189137</td>\n",
       "      <td>12546.359986</td>\n",
       "      <td>61.000000</td>\n",
       "      <td>379.000000</td>\n",
       "      <td>653.000000</td>\n",
       "      <td>1158.000000</td>\n",
       "      <td>2.922656e+06</td>\n",
       "    </tr>\n",
       "    <tr>\n",
       "      <th>start station id</th>\n",
       "      <td>1924563.0</td>\n",
       "      <td>1671.397195</td>\n",
       "      <td>1473.509066</td>\n",
       "      <td>72.000000</td>\n",
       "      <td>382.000000</td>\n",
       "      <td>516.000000</td>\n",
       "      <td>3293.000000</td>\n",
       "      <td>3.790000e+03</td>\n",
       "    </tr>\n",
       "    <tr>\n",
       "      <th>start station latitude</th>\n",
       "      <td>1924563.0</td>\n",
       "      <td>40.736979</td>\n",
       "      <td>0.030622</td>\n",
       "      <td>40.655400</td>\n",
       "      <td>40.717400</td>\n",
       "      <td>40.737262</td>\n",
       "      <td>40.757570</td>\n",
       "      <td>4.081439e+01</td>\n",
       "    </tr>\n",
       "    <tr>\n",
       "      <th>start station longitude</th>\n",
       "      <td>1924563.0</td>\n",
       "      <td>-73.982227</td>\n",
       "      <td>0.019701</td>\n",
       "      <td>-74.025353</td>\n",
       "      <td>-73.995951</td>\n",
       "      <td>-73.985180</td>\n",
       "      <td>-73.971212</td>\n",
       "      <td>-7.390774e+01</td>\n",
       "    </tr>\n",
       "    <tr>\n",
       "      <th>end station id</th>\n",
       "      <td>1924563.0</td>\n",
       "      <td>1664.596165</td>\n",
       "      <td>1473.196169</td>\n",
       "      <td>72.000000</td>\n",
       "      <td>380.000000</td>\n",
       "      <td>515.000000</td>\n",
       "      <td>3292.000000</td>\n",
       "      <td>3.790000e+03</td>\n",
       "    </tr>\n",
       "    <tr>\n",
       "      <th>end station latitude</th>\n",
       "      <td>1924563.0</td>\n",
       "      <td>40.736745</td>\n",
       "      <td>0.030488</td>\n",
       "      <td>40.655400</td>\n",
       "      <td>40.717227</td>\n",
       "      <td>40.737050</td>\n",
       "      <td>40.757148</td>\n",
       "      <td>4.081439e+01</td>\n",
       "    </tr>\n",
       "    <tr>\n",
       "      <th>end station longitude</th>\n",
       "      <td>1924563.0</td>\n",
       "      <td>-73.982483</td>\n",
       "      <td>0.019763</td>\n",
       "      <td>-74.068601</td>\n",
       "      <td>-73.996010</td>\n",
       "      <td>-73.985836</td>\n",
       "      <td>-73.971518</td>\n",
       "      <td>-7.390774e+01</td>\n",
       "    </tr>\n",
       "    <tr>\n",
       "      <th>bikeid</th>\n",
       "      <td>1924563.0</td>\n",
       "      <td>27128.611155</td>\n",
       "      <td>6404.187636</td>\n",
       "      <td>14529.000000</td>\n",
       "      <td>20826.000000</td>\n",
       "      <td>28782.000000</td>\n",
       "      <td>32576.000000</td>\n",
       "      <td>3.800200e+04</td>\n",
       "    </tr>\n",
       "    <tr>\n",
       "      <th>birth year</th>\n",
       "      <td>1924563.0</td>\n",
       "      <td>1979.833192</td>\n",
       "      <td>11.992133</td>\n",
       "      <td>1885.000000</td>\n",
       "      <td>1969.000000</td>\n",
       "      <td>1982.000000</td>\n",
       "      <td>1990.000000</td>\n",
       "      <td>2.003000e+03</td>\n",
       "    </tr>\n",
       "    <tr>\n",
       "      <th>gender</th>\n",
       "      <td>1924563.0</td>\n",
       "      <td>1.152992</td>\n",
       "      <td>0.551678</td>\n",
       "      <td>0.000000</td>\n",
       "      <td>1.000000</td>\n",
       "      <td>1.000000</td>\n",
       "      <td>1.000000</td>\n",
       "      <td>2.000000e+00</td>\n",
       "    </tr>\n",
       "  </tbody>\n",
       "</table>\n",
       "</div>\n",
       "      <button class=\"colab-df-convert\" onclick=\"convertToInteractive('df-083340e6-dca9-4681-92a7-e5922277184d')\"\n",
       "              title=\"Convert this dataframe to an interactive table.\"\n",
       "              style=\"display:none;\">\n",
       "        \n",
       "  <svg xmlns=\"http://www.w3.org/2000/svg\" height=\"24px\"viewBox=\"0 0 24 24\"\n",
       "       width=\"24px\">\n",
       "    <path d=\"M0 0h24v24H0V0z\" fill=\"none\"/>\n",
       "    <path d=\"M18.56 5.44l.94 2.06.94-2.06 2.06-.94-2.06-.94-.94-2.06-.94 2.06-2.06.94zm-11 1L8.5 8.5l.94-2.06 2.06-.94-2.06-.94L8.5 2.5l-.94 2.06-2.06.94zm10 10l.94 2.06.94-2.06 2.06-.94-2.06-.94-.94-2.06-.94 2.06-2.06.94z\"/><path d=\"M17.41 7.96l-1.37-1.37c-.4-.4-.92-.59-1.43-.59-.52 0-1.04.2-1.43.59L10.3 9.45l-7.72 7.72c-.78.78-.78 2.05 0 2.83L4 21.41c.39.39.9.59 1.41.59.51 0 1.02-.2 1.41-.59l7.78-7.78 2.81-2.81c.8-.78.8-2.07 0-2.86zM5.41 20L4 18.59l7.72-7.72 1.47 1.35L5.41 20z\"/>\n",
       "  </svg>\n",
       "      </button>\n",
       "      \n",
       "  <style>\n",
       "    .colab-df-container {\n",
       "      display:flex;\n",
       "      flex-wrap:wrap;\n",
       "      gap: 12px;\n",
       "    }\n",
       "\n",
       "    .colab-df-convert {\n",
       "      background-color: #E8F0FE;\n",
       "      border: none;\n",
       "      border-radius: 50%;\n",
       "      cursor: pointer;\n",
       "      display: none;\n",
       "      fill: #1967D2;\n",
       "      height: 32px;\n",
       "      padding: 0 0 0 0;\n",
       "      width: 32px;\n",
       "    }\n",
       "\n",
       "    .colab-df-convert:hover {\n",
       "      background-color: #E2EBFA;\n",
       "      box-shadow: 0px 1px 2px rgba(60, 64, 67, 0.3), 0px 1px 3px 1px rgba(60, 64, 67, 0.15);\n",
       "      fill: #174EA6;\n",
       "    }\n",
       "\n",
       "    [theme=dark] .colab-df-convert {\n",
       "      background-color: #3B4455;\n",
       "      fill: #D2E3FC;\n",
       "    }\n",
       "\n",
       "    [theme=dark] .colab-df-convert:hover {\n",
       "      background-color: #434B5C;\n",
       "      box-shadow: 0px 1px 3px 1px rgba(0, 0, 0, 0.15);\n",
       "      filter: drop-shadow(0px 1px 2px rgba(0, 0, 0, 0.3));\n",
       "      fill: #FFFFFF;\n",
       "    }\n",
       "  </style>\n",
       "\n",
       "      <script>\n",
       "        const buttonEl =\n",
       "          document.querySelector('#df-083340e6-dca9-4681-92a7-e5922277184d button.colab-df-convert');\n",
       "        buttonEl.style.display =\n",
       "          google.colab.kernel.accessAllowed ? 'block' : 'none';\n",
       "\n",
       "        async function convertToInteractive(key) {\n",
       "          const element = document.querySelector('#df-083340e6-dca9-4681-92a7-e5922277184d');\n",
       "          const dataTable =\n",
       "            await google.colab.kernel.invokeFunction('convertToInteractive',\n",
       "                                                     [key], {});\n",
       "          if (!dataTable) return;\n",
       "\n",
       "          const docLinkHtml = 'Like what you see? Visit the ' +\n",
       "            '<a target=\"_blank\" href=https://colab.research.google.com/notebooks/data_table.ipynb>data table notebook</a>'\n",
       "            + ' to learn more about interactive tables.';\n",
       "          element.innerHTML = '';\n",
       "          dataTable['output_type'] = 'display_data';\n",
       "          await google.colab.output.renderOutput(dataTable, element);\n",
       "          const docLink = document.createElement('div');\n",
       "          docLink.innerHTML = docLinkHtml;\n",
       "          element.appendChild(docLink);\n",
       "        }\n",
       "      </script>\n",
       "    </div>\n",
       "  </div>\n",
       "  "
      ],
      "text/plain": [
       "                             count          mean           std           min  \\\n",
       "tripduration             1924563.0   1067.189137  12546.359986     61.000000   \n",
       "start station id         1924563.0   1671.397195   1473.509066     72.000000   \n",
       "start station latitude   1924563.0     40.736979      0.030622     40.655400   \n",
       "start station longitude  1924563.0    -73.982227      0.019701    -74.025353   \n",
       "end station id           1924563.0   1664.596165   1473.196169     72.000000   \n",
       "end station latitude     1924563.0     40.736745      0.030488     40.655400   \n",
       "end station longitude    1924563.0    -73.982483      0.019763    -74.068601   \n",
       "bikeid                   1924563.0  27128.611155   6404.187636  14529.000000   \n",
       "birth year               1924563.0   1979.833192     11.992133   1885.000000   \n",
       "gender                   1924563.0      1.152992      0.551678      0.000000   \n",
       "\n",
       "                                  25%           50%           75%  \\\n",
       "tripduration               379.000000    653.000000   1158.000000   \n",
       "start station id           382.000000    516.000000   3293.000000   \n",
       "start station latitude      40.717400     40.737262     40.757570   \n",
       "start station longitude    -73.995951    -73.985180    -73.971212   \n",
       "end station id             380.000000    515.000000   3292.000000   \n",
       "end station latitude        40.717227     40.737050     40.757148   \n",
       "end station longitude      -73.996010    -73.985836    -73.971518   \n",
       "bikeid                   20826.000000  28782.000000  32576.000000   \n",
       "birth year                1969.000000   1982.000000   1990.000000   \n",
       "gender                       1.000000      1.000000      1.000000   \n",
       "\n",
       "                                  max  \n",
       "tripduration             2.922656e+06  \n",
       "start station id         3.790000e+03  \n",
       "start station latitude   4.081439e+01  \n",
       "start station longitude -7.390774e+01  \n",
       "end station id           3.790000e+03  \n",
       "end station latitude     4.081439e+01  \n",
       "end station longitude   -7.390774e+01  \n",
       "bikeid                   3.800200e+04  \n",
       "birth year               2.003000e+03  \n",
       "gender                   2.000000e+00  "
      ]
     },
     "execution_count": 6,
     "metadata": {},
     "output_type": "execute_result"
    }
   ],
   "source": [
    "cbMay19.describe().transpose()"
   ]
  },
  {
   "cell_type": "markdown",
   "metadata": {
    "id": "OIkA2ZoZt0_G"
   },
   "source": [
    "What can we conclude from the following?? Well, we can see that there are A LOT of datapoints in this dataframe with almost 2 million observations in the dataframe, we can also see that this dataframe has 15 features for each observation. We can also see that our numeric columns don't have any missing values which is pretty interesting considering a dataset of this size...\n",
    "\n",
    "We can also see an average trip duration of ~1067.2 seconds, a standard deviation of ~12546.36 seconds for all citibike users.\n",
    "\n",
    "# Trip duration distribution:"
   ]
  },
  {
   "cell_type": "code",
   "execution_count": 7,
   "metadata": {
    "colab": {
     "base_uri": "https://localhost:8080/",
     "height": 295
    },
    "id": "57rJT9GHs_Jw",
    "outputId": "70e8e2f6-a8ea-468c-98d7-51d41c676aa8"
   },
   "outputs": [
    {
     "data": {
      "image/png": "[encoded data removed]",
      "text/plain": [
       "<Figure size 432x288 with 1 Axes>"
      ]
     },
     "metadata": {
      "needs_background": "light"
     },
     "output_type": "display_data"
    }
   ],
   "source": [
    "plt.hist(x = cbMay19['tripduration'], bins = np.arange(0, 300000, 25000));\n",
    "plt.xlabel('Trip Duration in Mins')\n",
    "plt.ylabel('# of Trips')\n",
    "plt.title('Trip Duration')\n",
    "plt.grid()\n",
    "\n",
    "# This is a little different from your plot in the hw outline on the x axis but visibly looks the same..."
   ]
  },
  {
   "cell_type": "code",
   "execution_count": 8,
   "metadata": {
    "id": "lNWHzqmhxPaO"
   },
   "outputs": [],
   "source": [
    "# removing datapoints that seem... off, where tripduration is less than a whole day\n",
    "# 1440 mins in a day\n",
    "cbMay19_clean = cbMay19[cbMay19[\"tripduration\"] < 1440]"
   ]
  },
  {
   "cell_type": "code",
   "execution_count": 9,
   "metadata": {
    "colab": {
     "base_uri": "https://localhost:8080/",
     "height": 295
    },
    "id": "Kp-tTlzO1FaY",
    "outputId": "e41aacf1-f10d-4600-8c21-81ea81a14528"
   },
   "outputs": [
    {
     "data": {
      "image/png": "[encoded data removed]",
      "text/plain": [
       "<Figure size 432x288 with 1 Axes>"
      ]
     },
     "metadata": {
      "needs_background": "light"
     },
     "output_type": "display_data"
    }
   ],
   "source": [
    "# Remaking histogram with clean data...\n",
    "plt.hist(x = cbMay19_clean['tripduration'], bins = np.arange(0, 300000, 25000));\n",
    "plt.xlabel('Trip Duration in Mins')\n",
    "plt.ylabel('# of Trips')\n",
    "plt.title('Trip Duration')\n",
    "plt.grid()"
   ]
  },
  {
   "cell_type": "markdown",
   "metadata": {},
   "source": [
    "# <mark>WFF</mark> Missing figure caption. Also this isn't quite the plot that we were looking for once you cleaned the data. This plot still doesn't really show any of the detail of the data."
   ]
  },
  {
   "cell_type": "markdown",
   "metadata": {
    "id": "semkxdk-2WQs"
   },
   "source": [
    "# Data Wrangling:\n",
    "\n",
    "We will be partitioning our dataset into our proper representation of males and females, plotting the distribution of data for males and females on the same axes, respectively."
   ]
  },
  {
   "cell_type": "code",
   "execution_count": 10,
   "metadata": {
    "id": "G_PD_Afl19sN"
   },
   "outputs": [],
   "source": [
    "men = cbMay19_clean[cbMay19_clean['gender'] == 1]\n",
    "women = cbMay19_clean[cbMay19_clean['gender'] == 2]"
   ]
  },
  {
   "cell_type": "code",
   "execution_count": 11,
   "metadata": {
    "colab": {
     "base_uri": "https://localhost:8080/",
     "height": 312
    },
    "id": "afojAMU13P0D",
    "outputId": "f10157bd-ad89-452d-afb8-cdf5f75bdefc"
   },
   "outputs": [
    {
     "data": {
      "text/plain": [
       "Text(0.5, 1.0, 'Trip Duration')"
      ]
     },
     "execution_count": 11,
     "metadata": {},
     "output_type": "execute_result"
    },
    {
     "data": {
      "image/png": "[encoded data removed]",
      "text/plain": [
       "<Figure size 432x288 with 1 Axes>"
      ]
     },
     "metadata": {
      "needs_background": "light"
     },
     "output_type": "display_data"
    }
   ],
   "source": [
    "plt.hist(men['tripduration'])\n",
    "plt.hist(women['tripduration'])\n",
    "plt.xlabel('Trip Duration in Mins')\n",
    "plt.ylabel('# of Trips')\n",
    "plt.title('Trip Duration')"
   ]
  },
  {
   "cell_type": "markdown",
   "metadata": {
    "id": "a9x2I5wJ4D22"
   },
   "source": [
    "We can state from the following figure that there are a significantly larger quantity of trips for males than females regardless of trip duration. It seems that our average trip duration is a little greater for women than it is for men.\n",
    "\n",
    "# Statistical Analysis:\n",
    "\n",
    "We will be running a t-test along with a KS test for the following distributions..."
   ]
  },
  {
   "cell_type": "code",
   "execution_count": 12,
   "metadata": {
    "colab": {
     "base_uri": "https://localhost:8080/"
    },
    "id": "Xw_A-T6y3n3v",
    "outputId": "27652115-19b4-402c-d850-99508ba6a135"
   },
   "outputs": [
    {
     "data": {
      "text/plain": [
       "Ttest_indResult(statistic=-100.84403665697793, pvalue=0.0)"
      ]
     },
     "execution_count": 12,
     "metadata": {},
     "output_type": "execute_result"
    }
   ],
   "source": [
    "stats.ttest_ind(men['tripduration'], women['tripduration'], axis = 0)"
   ]
  },
  {
   "cell_type": "markdown",
   "metadata": {
    "id": "QoEGK95i8KT9"
   },
   "source": [
    "We can state from our t-test statistic that there is a significant difference between the mean of our male distribution and our female distribution."
   ]
  },
  {
   "cell_type": "code",
   "execution_count": 13,
   "metadata": {
    "colab": {
     "base_uri": "https://localhost:8080/"
    },
    "id": "G-TPgRQL6QHn",
    "outputId": "3143fddf-6d85-42f9-8558-3b956f69d90f"
   },
   "outputs": [
    {
     "data": {
      "text/plain": [
       "KstestResult(statistic=0.08422140452629323, pvalue=0.0)"
      ]
     },
     "execution_count": 13,
     "metadata": {},
     "output_type": "execute_result"
    }
   ],
   "source": [
    "stats.kstest(men['tripduration'], women['tripduration'])"
   ]
  },
  {
   "cell_type": "code",
   "execution_count": 14,
   "metadata": {
    "id": "rtMNblvP7dkV"
   },
   "outputs": [],
   "source": [
    "#men['tripduration'].mean()\n",
    "#women['tripduration'].mean()"
   ]
  },
  {
   "cell_type": "markdown",
   "metadata": {
    "id": "6fvVbTnCA9L0"
   },
   "source": [
    "So from our statistical tests we can state that there is a significant difference between the average bike-ride duration times of men and women in our dataset to the 95% confidence.\n",
    "\n",
    "# Are our Distributions the same??:\n",
    "Considering our null hypothesis, we assume that the numbers are uniformly distributed between 0-1. If we are able to reject the Null Hypothesis, this means that the numbers are not uniformly distributed between 0-1. "
   ]
  },
  {
   "cell_type": "code",
   "execution_count": 15,
   "metadata": {
    "colab": {
     "base_uri": "https://localhost:8080/"
    },
    "id": "I1TEoVYvFOvQ",
    "outputId": "38b53b98-0d27-487f-e64d-3b4fb67cb901"
   },
   "outputs": [
    {
     "data": {
      "text/plain": [
       "KstestResult(statistic=0.08422140452629323, pvalue=0.0)"
      ]
     },
     "execution_count": 15,
     "metadata": {},
     "output_type": "execute_result"
    }
   ],
   "source": [
    "stats.ks_2samp(men['tripduration'], women['tripduration'])"
   ]
  },
  {
   "cell_type": "markdown",
   "metadata": {
    "id": "QWoOC8i8GB_o"
   },
   "source": [
    "We can see that our distributions are pretty different. Due to the fact that our p-value of our KS-test is 0.0, we can state that there is a different distribution between the men and women in our distribution."
   ]
  },
  {
   "cell_type": "code",
   "execution_count": 16,
   "metadata": {
    "id": "6wNzM877F6rE"
   },
   "outputs": [],
   "source": [
    "normed_f = (women[\"tripduration\"] - women[\"tripduration\"].mean()) / women[\"tripduration\"].std()\n",
    "normed_m = (men[\"tripduration\"] - men[\"tripduration\"].mean()) / men[\"tripduration\"].std()"
   ]
  },
  {
   "cell_type": "markdown",
   "metadata": {
    "id": "-uWNnaGzGwiC"
   },
   "source": [
    "#Re-running our test for normalization:"
   ]
  },
  {
   "cell_type": "code",
   "execution_count": 17,
   "metadata": {
    "colab": {
     "base_uri": "https://localhost:8080/"
    },
    "id": "L8WXFQXDGtow",
    "outputId": "1d38237b-dabe-41ab-c300-f9c174954d3e"
   },
   "outputs": [
    {
     "data": {
      "text/plain": [
       "KstestResult(statistic=0.022785464212612745, pvalue=1.4148236782790818e-127)"
      ]
     },
     "execution_count": 17,
     "metadata": {},
     "output_type": "execute_result"
    }
   ],
   "source": [
    "stats.ks_2samp(normed_m, normed_f)"
   ]
  },
  {
   "cell_type": "markdown",
   "metadata": {
    "id": "QgdujfFdHXxp"
   },
   "source": [
    "Our p-value seems to increase a slight amount! But not enough to not reject the null Hypothesis. I will definately look at the Extra-Credit tomorrow...."
   ]
  }
 ],
 "metadata": {
  "colab": {
   "authorship_tag": "ABX9TyMgihZkcIXrQISC0ozElncf",
   "collapsed_sections": [],
   "include_colab_link": true,
   "provenance": []
  },
  "kernelspec": {
   "display_name": "Python 3",
   "language": "python",
   "name": "python3"
  },
  "language_info": {
   "codemirror_mode": {
    "name": "ipython",
    "version": 3
   },
   "file_extension": ".py",
   "mimetype": "text/x-python",
   "name": "python",
   "nbconvert_exporter": "python",
   "pygments_lexer": "ipython3",
   "version": "3.9.2"
  }
 },
 "nbformat": 4,
 "nbformat_minor": 4
}
