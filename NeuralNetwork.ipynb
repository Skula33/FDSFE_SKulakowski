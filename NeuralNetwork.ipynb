{
  "nbformat": 4,
  "nbformat_minor": 0,
  "metadata": {
    "colab": {
      "provenance": [],
      "authorship_tag": "ABX9TyOK9U61/jl5oI8oUjLRZIuc",
      "include_colab_link": true
    },
    "kernelspec": {
      "name": "python3",
      "display_name": "Python 3"
    },
    "language_info": {
      "name": "python"
    }
  },
  "cells": [
    {
      "cell_type": "markdown",
      "metadata": {
        "id": "view-in-github",
        "colab_type": "text"
      },
      "source": [
        "<a href=\"https://colab.research.google.com/github/Skula33/FDSfE_SKulakowski/blob/main/NeuralNetwork.ipynb\" target=\"_parent\"><img src=\"https://colab.research.google.com/assets/colab-badge.svg\" alt=\"Open In Colab\"/></a>"
      ]
    },
    {
      "cell_type": "code",
      "execution_count": 1,
      "metadata": {
        "id": "fn9qsw1xFKVZ"
      },
      "outputs": [],
      "source": [
        "import pandas as pd\n",
        "import numpy as np\n",
        "import pylab as plt"
      ]
    },
    {
      "cell_type": "code",
      "source": [
        "from sklearn.datasets import load_digits"
      ],
      "metadata": {
        "id": "nSITGGFwimpI"
      },
      "execution_count": 2,
      "outputs": []
    },
    {
      "cell_type": "code",
      "source": [
        "mnist = load_digits()"
      ],
      "metadata": {
        "id": "Js1XMYY5i_a9"
      },
      "execution_count": 5,
      "outputs": []
    },
    {
      "cell_type": "code",
      "source": [
        "mnist.keys()"
      ],
      "metadata": {
        "colab": {
          "base_uri": "https://localhost:8080/"
        },
        "id": "3dcSdddsjCw5",
        "outputId": "0118af47-e8ff-4071-db8f-20222a850d20"
      },
      "execution_count": 7,
      "outputs": [
        {
          "output_type": "execute_result",
          "data": {
            "text/plain": [
              "dict_keys(['data', 'target', 'frame', 'feature_names', 'target_names', 'images', 'DESCR'])"
            ]
          },
          "metadata": {},
          "execution_count": 7
        }
      ]
    },
    {
      "cell_type": "code",
      "source": [
        "mnist.data"
      ],
      "metadata": {
        "colab": {
          "base_uri": "https://localhost:8080/"
        },
        "id": "M4WHtavBjDvp",
        "outputId": "4e09fbf7-1387-4af8-8f4c-7b19bbf4b4fe"
      },
      "execution_count": 9,
      "outputs": [
        {
          "output_type": "execute_result",
          "data": {
            "text/plain": [
              "array([[ 0.,  0.,  5., ...,  0.,  0.,  0.],\n",
              "       [ 0.,  0.,  0., ..., 10.,  0.,  0.],\n",
              "       [ 0.,  0.,  0., ..., 16.,  9.,  0.],\n",
              "       ...,\n",
              "       [ 0.,  0.,  1., ...,  6.,  0.,  0.],\n",
              "       [ 0.,  0.,  2., ..., 12.,  0.,  0.],\n",
              "       [ 0.,  0., 10., ..., 12.,  1.,  0.]])"
            ]
          },
          "metadata": {},
          "execution_count": 9
        }
      ]
    },
    {
      "cell_type": "code",
      "source": [
        "mnist.data.shape"
      ],
      "metadata": {
        "colab": {
          "base_uri": "https://localhost:8080/"
        },
        "id": "LYH2oEQtjcdb",
        "outputId": "0e49bf75-d8b2-4d5d-b35d-ffa7d04d91e9"
      },
      "execution_count": 10,
      "outputs": [
        {
          "output_type": "execute_result",
          "data": {
            "text/plain": [
              "(1797, 64)"
            ]
          },
          "metadata": {},
          "execution_count": 10
        }
      ]
    },
    {
      "cell_type": "code",
      "source": [
        "mnist.images.shape"
      ],
      "metadata": {
        "colab": {
          "base_uri": "https://localhost:8080/"
        },
        "id": "xuI4x6L_jnWf",
        "outputId": "0c3b09db-9ef8-47a4-be0b-d639db98d4f4"
      },
      "execution_count": 12,
      "outputs": [
        {
          "output_type": "execute_result",
          "data": {
            "text/plain": [
              "(1797, 8, 8)"
            ]
          },
          "metadata": {},
          "execution_count": 12
        }
      ]
    },
    {
      "cell_type": "code",
      "source": [
        "mnist.images[0]"
      ],
      "metadata": {
        "colab": {
          "base_uri": "https://localhost:8080/"
        },
        "id": "ApCZBu1ijwhq",
        "outputId": "7e51889d-d9e1-4d68-84c8-5262bdbd52b2"
      },
      "execution_count": 13,
      "outputs": [
        {
          "output_type": "execute_result",
          "data": {
            "text/plain": [
              "array([[ 0.,  0.,  5., 13.,  9.,  1.,  0.,  0.],\n",
              "       [ 0.,  0., 13., 15., 10., 15.,  5.,  0.],\n",
              "       [ 0.,  3., 15.,  2.,  0., 11.,  8.,  0.],\n",
              "       [ 0.,  4., 12.,  0.,  0.,  8.,  8.,  0.],\n",
              "       [ 0.,  5.,  8.,  0.,  0.,  9.,  8.,  0.],\n",
              "       [ 0.,  4., 11.,  0.,  1., 12.,  7.,  0.],\n",
              "       [ 0.,  2., 14.,  5., 10., 12.,  0.,  0.],\n",
              "       [ 0.,  0.,  6., 13., 10.,  0.,  0.,  0.]])"
            ]
          },
          "metadata": {},
          "execution_count": 13
        }
      ]
    },
    {
      "cell_type": "code",
      "source": [
        "plt.imshow(mnist.images[65], cmap = 'binary');"
      ],
      "metadata": {
        "colab": {
          "base_uri": "https://localhost:8080/",
          "height": 265
        },
        "id": "dRAGUG7mj4df",
        "outputId": "1d5c5328-a82c-4f0e-9f30-f9b852ac0ff7"
      },
      "execution_count": 20,
      "outputs": [
        {
          "output_type": "display_data",
          "data": {
            "text/plain": [
              "<Figure size 432x288 with 1 Axes>"
            ],
            "image/png": "[encoded data removed]"
          },
          "metadata": {
            "needs_background": "light"
          }
        }
      ]
    },
    {
      "cell_type": "code",
      "source": [
        "mnist.target.shape"
      ],
      "metadata": {
        "colab": {
          "base_uri": "https://localhost:8080/"
        },
        "id": "HDHvU39RkIFV",
        "outputId": "b96f122f-38fc-4354-f51e-37726419a6f9"
      },
      "execution_count": 21,
      "outputs": [
        {
          "output_type": "execute_result",
          "data": {
            "text/plain": [
              "(1797,)"
            ]
          },
          "metadata": {},
          "execution_count": 21
        }
      ]
    },
    {
      "cell_type": "code",
      "source": [
        "X = mnist.data\n",
        "y = mnist.target"
      ],
      "metadata": {
        "id": "rui3BCyrkiYF"
      },
      "execution_count": 22,
      "outputs": []
    },
    {
      "cell_type": "code",
      "source": [
        "from sklearn.model_selection import train_test_split"
      ],
      "metadata": {
        "id": "pPRaNBZZlCld"
      },
      "execution_count": 23,
      "outputs": []
    },
    {
      "cell_type": "code",
      "source": [
        "X_train, X_test, y_train, y_test = train_test_split(X, y, train_size = 0.7, random_state = 142, stratify = y)"
      ],
      "metadata": {
        "id": "DQB_JDOHlRKs"
      },
      "execution_count": 25,
      "outputs": []
    },
    {
      "cell_type": "code",
      "source": [
        "X_train.shape"
      ],
      "metadata": {
        "colab": {
          "base_uri": "https://localhost:8080/"
        },
        "id": "ZjUrOZ9ilckP",
        "outputId": "2e6b988e-6cdd-4fe7-9112-5efc1bf2946c"
      },
      "execution_count": 26,
      "outputs": [
        {
          "output_type": "execute_result",
          "data": {
            "text/plain": [
              "(1257, 64)"
            ]
          },
          "metadata": {},
          "execution_count": 26
        }
      ]
    },
    {
      "cell_type": "code",
      "source": [
        "y_train.shape"
      ],
      "metadata": {
        "colab": {
          "base_uri": "https://localhost:8080/"
        },
        "id": "LhAh1AismHqt",
        "outputId": "ddfa900c-64d3-4e30-b336-d852acc024b2"
      },
      "execution_count": 27,
      "outputs": [
        {
          "output_type": "execute_result",
          "data": {
            "text/plain": [
              "(1257,)"
            ]
          },
          "metadata": {},
          "execution_count": 27
        }
      ]
    },
    {
      "cell_type": "code",
      "source": [
        "X_test.shape"
      ],
      "metadata": {
        "colab": {
          "base_uri": "https://localhost:8080/"
        },
        "id": "MeoJXplmmIyH",
        "outputId": "b7adc129-222a-422b-8eee-d198b7ac9916"
      },
      "execution_count": 28,
      "outputs": [
        {
          "output_type": "execute_result",
          "data": {
            "text/plain": [
              "(540, 64)"
            ]
          },
          "metadata": {},
          "execution_count": 28
        }
      ]
    },
    {
      "cell_type": "code",
      "source": [
        "y_test.shape"
      ],
      "metadata": {
        "colab": {
          "base_uri": "https://localhost:8080/"
        },
        "id": "WsMef695mKiK",
        "outputId": "ab42f5ef-b98d-4a60-d430-fa0862cce954"
      },
      "execution_count": 29,
      "outputs": [
        {
          "output_type": "execute_result",
          "data": {
            "text/plain": [
              "(540,)"
            ]
          },
          "metadata": {},
          "execution_count": 29
        }
      ]
    },
    {
      "cell_type": "code",
      "source": [
        "from sklearn.neural_network import MLPClassifier"
      ],
      "metadata": {
        "id": "nUXC0L_DmM1-"
      },
      "execution_count": 31,
      "outputs": []
    },
    {
      "cell_type": "code",
      "source": [
        "mlp = MLPClassifier(activation = 'relu', hidden_layer_sizes = (40,40), \n",
        "                    random_state = 23, verbose = 1, max_iter = 400)"
      ],
      "metadata": {
        "id": "dq_ByP5umacd"
      },
      "execution_count": 46,
      "outputs": []
    },
    {
      "cell_type": "code",
      "source": [
        "mlp.fit(X_train, y_train)"
      ],
      "metadata": {
        "colab": {
          "base_uri": "https://localhost:8080/"
        },
        "id": "-a0SCrjgmm_F",
        "outputId": "5c01fd2a-e84b-48e7-a241-7588ea433cab"
      },
      "execution_count": 47,
      "outputs": [
        {
          "output_type": "stream",
          "name": "stdout",
          "text": [
            "Iteration 1, loss = 4.29945912\n",
            "Iteration 2, loss = 2.68482377\n",
            "Iteration 3, loss = 1.97242725\n",
            "Iteration 4, loss = 1.56937206\n",
            "Iteration 5, loss = 1.30425494\n",
            "Iteration 6, loss = 1.08796143\n",
            "Iteration 7, loss = 0.91494477\n",
            "Iteration 8, loss = 0.77029295\n",
            "Iteration 9, loss = 0.65249755\n",
            "Iteration 10, loss = 0.55847769\n",
            "Iteration 11, loss = 0.48319741\n",
            "Iteration 12, loss = 0.42155615\n",
            "Iteration 13, loss = 0.37391418\n",
            "Iteration 14, loss = 0.33368111\n",
            "Iteration 15, loss = 0.30171686\n",
            "Iteration 16, loss = 0.27324381\n",
            "Iteration 17, loss = 0.24945927\n",
            "Iteration 18, loss = 0.22652314\n",
            "Iteration 19, loss = 0.20796435\n",
            "Iteration 20, loss = 0.19226664\n",
            "Iteration 21, loss = 0.17775810\n",
            "Iteration 22, loss = 0.16531163\n",
            "Iteration 23, loss = 0.15397150\n",
            "Iteration 24, loss = 0.14336258\n",
            "Iteration 25, loss = 0.13357831\n",
            "Iteration 26, loss = 0.12586367\n",
            "Iteration 27, loss = 0.11760163\n",
            "Iteration 28, loss = 0.11094345\n",
            "Iteration 29, loss = 0.10493218\n",
            "Iteration 30, loss = 0.09943060\n",
            "Iteration 31, loss = 0.09341165\n",
            "Iteration 32, loss = 0.08952238\n",
            "Iteration 33, loss = 0.08449706\n",
            "Iteration 34, loss = 0.07994404\n",
            "Iteration 35, loss = 0.07743996\n",
            "Iteration 36, loss = 0.07306225\n",
            "Iteration 37, loss = 0.06924590\n",
            "Iteration 38, loss = 0.06646028\n",
            "Iteration 39, loss = 0.06319274\n",
            "Iteration 40, loss = 0.06098910\n",
            "Iteration 41, loss = 0.05846186\n",
            "Iteration 42, loss = 0.05496327\n",
            "Iteration 43, loss = 0.05295432\n",
            "Iteration 44, loss = 0.05004578\n",
            "Iteration 45, loss = 0.04652036\n",
            "Iteration 46, loss = 0.04623748\n",
            "Iteration 47, loss = 0.04286707\n",
            "Iteration 48, loss = 0.04094485\n",
            "Iteration 49, loss = 0.03916094\n",
            "Iteration 50, loss = 0.03752899\n",
            "Iteration 51, loss = 0.03572530\n",
            "Iteration 52, loss = 0.03431852\n",
            "Iteration 53, loss = 0.03250574\n",
            "Iteration 54, loss = 0.03229579\n",
            "Iteration 55, loss = 0.02988653\n",
            "Iteration 56, loss = 0.02919029\n",
            "Iteration 57, loss = 0.02813845\n",
            "Iteration 58, loss = 0.02697140\n",
            "Iteration 59, loss = 0.02640707\n",
            "Iteration 60, loss = 0.02459310\n",
            "Iteration 61, loss = 0.02360226\n",
            "Iteration 62, loss = 0.02267291\n",
            "Iteration 63, loss = 0.02220218\n",
            "Iteration 64, loss = 0.02123674\n",
            "Iteration 65, loss = 0.02083309\n",
            "Iteration 66, loss = 0.01953748\n",
            "Iteration 67, loss = 0.01927534\n",
            "Iteration 68, loss = 0.01833331\n",
            "Iteration 69, loss = 0.01799742\n",
            "Iteration 70, loss = 0.01741188\n",
            "Iteration 71, loss = 0.01695315\n",
            "Iteration 72, loss = 0.01629319\n",
            "Iteration 73, loss = 0.01614574\n",
            "Iteration 74, loss = 0.01506362\n",
            "Iteration 75, loss = 0.01498714\n",
            "Iteration 76, loss = 0.01456818\n",
            "Iteration 77, loss = 0.01405095\n",
            "Iteration 78, loss = 0.01340954\n",
            "Iteration 79, loss = 0.01303696\n",
            "Iteration 80, loss = 0.01285932\n",
            "Iteration 81, loss = 0.01239365\n",
            "Iteration 82, loss = 0.01201281\n",
            "Iteration 83, loss = 0.01184088\n",
            "Iteration 84, loss = 0.01140938\n",
            "Iteration 85, loss = 0.01102489\n",
            "Iteration 86, loss = 0.01075625\n",
            "Iteration 87, loss = 0.01060966\n",
            "Iteration 88, loss = 0.01018915\n",
            "Iteration 89, loss = 0.00991890\n",
            "Iteration 90, loss = 0.00963415\n",
            "Iteration 91, loss = 0.00934992\n",
            "Iteration 92, loss = 0.00934220\n",
            "Iteration 93, loss = 0.00897051\n",
            "Iteration 94, loss = 0.00896022\n",
            "Iteration 95, loss = 0.00848325\n",
            "Iteration 96, loss = 0.00844385\n",
            "Iteration 97, loss = 0.00802138\n",
            "Iteration 98, loss = 0.00805317\n",
            "Iteration 99, loss = 0.00776542\n",
            "Iteration 100, loss = 0.00759853\n",
            "Iteration 101, loss = 0.00742876\n",
            "Iteration 102, loss = 0.00723246\n",
            "Iteration 103, loss = 0.00706873\n",
            "Iteration 104, loss = 0.00691573\n",
            "Iteration 105, loss = 0.00677627\n",
            "Iteration 106, loss = 0.00662387\n",
            "Iteration 107, loss = 0.00651280\n",
            "Iteration 108, loss = 0.00633645\n",
            "Iteration 109, loss = 0.00618842\n",
            "Iteration 110, loss = 0.00608573\n",
            "Iteration 111, loss = 0.00596096\n",
            "Iteration 112, loss = 0.00580640\n",
            "Iteration 113, loss = 0.00569464\n",
            "Iteration 114, loss = 0.00553250\n",
            "Iteration 115, loss = 0.00542936\n",
            "Iteration 116, loss = 0.00534902\n",
            "Iteration 117, loss = 0.00522351\n",
            "Iteration 118, loss = 0.00510375\n",
            "Iteration 119, loss = 0.00499581\n",
            "Iteration 120, loss = 0.00489225\n",
            "Iteration 121, loss = 0.00480667\n",
            "Iteration 122, loss = 0.00469674\n",
            "Iteration 123, loss = 0.00458330\n",
            "Iteration 124, loss = 0.00452012\n",
            "Iteration 125, loss = 0.00444439\n",
            "Iteration 126, loss = 0.00434078\n",
            "Iteration 127, loss = 0.00428007\n",
            "Iteration 128, loss = 0.00418644\n",
            "Iteration 129, loss = 0.00409215\n",
            "Iteration 130, loss = 0.00403952\n",
            "Iteration 131, loss = 0.00393481\n",
            "Iteration 132, loss = 0.00388452\n",
            "Iteration 133, loss = 0.00381657\n",
            "Iteration 134, loss = 0.00370746\n",
            "Iteration 135, loss = 0.00367049\n",
            "Iteration 136, loss = 0.00362634\n",
            "Iteration 137, loss = 0.00354572\n",
            "Iteration 138, loss = 0.00346440\n",
            "Iteration 139, loss = 0.00342300\n",
            "Iteration 140, loss = 0.00337228\n",
            "Iteration 141, loss = 0.00327660\n",
            "Iteration 142, loss = 0.00326395\n",
            "Iteration 143, loss = 0.00317939\n",
            "Iteration 144, loss = 0.00312274\n",
            "Iteration 145, loss = 0.00307792\n",
            "Training loss did not improve more than tol=0.000100 for 10 consecutive epochs. Stopping.\n"
          ]
        },
        {
          "output_type": "execute_result",
          "data": {
            "text/plain": [
              "MLPClassifier(hidden_layer_sizes=(40, 40), max_iter=400, random_state=23,\n",
              "              verbose=1)"
            ]
          },
          "metadata": {},
          "execution_count": 47
        }
      ]
    },
    {
      "cell_type": "code",
      "source": [
        "plt.plot(mlp.loss_curve_);"
      ],
      "metadata": {
        "colab": {
          "base_uri": "https://localhost:8080/",
          "height": 265
        },
        "id": "mLNDdDYVnJUk",
        "outputId": "c1ebb022-2259-49f7-b8a0-d49298f57f21"
      },
      "execution_count": 48,
      "outputs": [
        {
          "output_type": "display_data",
          "data": {
            "text/plain": [
              "<Figure size 432x288 with 1 Axes>"
            ],
            "image/png": "[encoded data removed]"
          },
          "metadata": {
            "needs_background": "light"
          }
        }
      ]
    },
    {
      "cell_type": "code",
      "source": [
        "mlp.score(X_train, y_train)"
      ],
      "metadata": {
        "colab": {
          "base_uri": "https://localhost:8080/"
        },
        "id": "YQqsYHMCn6TA",
        "outputId": "530e6d16-8ff4-4600-ef21-f36c2e0db2f0"
      },
      "execution_count": 49,
      "outputs": [
        {
          "output_type": "execute_result",
          "data": {
            "text/plain": [
              "1.0"
            ]
          },
          "metadata": {},
          "execution_count": 49
        }
      ]
    },
    {
      "cell_type": "code",
      "source": [
        "mlp.score(X_test, y_test)"
      ],
      "metadata": {
        "colab": {
          "base_uri": "https://localhost:8080/"
        },
        "id": "7fgsmrW5oFsz",
        "outputId": "9568d6fd-949f-4376-d7ba-312cebb76c27"
      },
      "execution_count": 50,
      "outputs": [
        {
          "output_type": "execute_result",
          "data": {
            "text/plain": [
              "0.9629629629629629"
            ]
          },
          "metadata": {},
          "execution_count": 50
        }
      ]
    },
    {
      "cell_type": "code",
      "source": [
        "from sklearn.metrics import classification_report"
      ],
      "metadata": {
        "id": "I4xvEyNkoIR_"
      },
      "execution_count": 51,
      "outputs": []
    },
    {
      "cell_type": "code",
      "source": [
        "y_pred = mlp.predict(X_test)\n",
        "print(classification_report(y_test, y_pred))"
      ],
      "metadata": {
        "colab": {
          "base_uri": "https://localhost:8080/"
        },
        "id": "2N2q1joIoRof",
        "outputId": "2ab21380-d4e0-4e5b-8439-25174b222f3e"
      },
      "execution_count": 52,
      "outputs": [
        {
          "output_type": "stream",
          "name": "stdout",
          "text": [
            "              precision    recall  f1-score   support\n",
            "\n",
            "           0       0.98      0.98      0.98        54\n",
            "           1       0.95      0.98      0.96        55\n",
            "           2       0.95      0.98      0.96        53\n",
            "           3       1.00      0.91      0.95        55\n",
            "           4       1.00      1.00      1.00        54\n",
            "           5       0.96      1.00      0.98        55\n",
            "           6       1.00      0.98      0.99        54\n",
            "           7       0.96      0.96      0.96        54\n",
            "           8       0.90      0.90      0.90        52\n",
            "           9       0.93      0.93      0.93        54\n",
            "\n",
            "    accuracy                           0.96       540\n",
            "   macro avg       0.96      0.96      0.96       540\n",
            "weighted avg       0.96      0.96      0.96       540\n",
            "\n"
          ]
        }
      ]
    },
    {
      "cell_type": "code",
      "source": [
        "from sklearn.metrics import confusion_matrix"
      ],
      "metadata": {
        "id": "vnm0gJIwoVsE"
      },
      "execution_count": 53,
      "outputs": []
    },
    {
      "cell_type": "code",
      "source": [
        "confusion_matrix(y_test, y_pred)"
      ],
      "metadata": {
        "colab": {
          "base_uri": "https://localhost:8080/"
        },
        "id": "RfSJBzwBor2z",
        "outputId": "9d65ce56-6d61-466f-baf0-35d4443926bb"
      },
      "execution_count": 54,
      "outputs": [
        {
          "output_type": "execute_result",
          "data": {
            "text/plain": [
              "array([[53,  0,  1,  0,  0,  0,  0,  0,  0,  0],\n",
              "       [ 0, 54,  0,  0,  0,  0,  0,  0,  1,  0],\n",
              "       [ 0,  1, 52,  0,  0,  0,  0,  0,  0,  0],\n",
              "       [ 0,  0,  0, 50,  0,  1,  0,  1,  2,  1],\n",
              "       [ 0,  0,  0,  0, 54,  0,  0,  0,  0,  0],\n",
              "       [ 0,  0,  0,  0,  0, 55,  0,  0,  0,  0],\n",
              "       [ 1,  0,  0,  0,  0,  0, 53,  0,  0,  0],\n",
              "       [ 0,  0,  0,  0,  0,  0,  0, 52,  0,  2],\n",
              "       [ 0,  2,  2,  0,  0,  0,  0,  0, 47,  1],\n",
              "       [ 0,  0,  0,  0,  0,  1,  0,  1,  2, 50]])"
            ]
          },
          "metadata": {},
          "execution_count": 54
        }
      ]
    }
  ]
}